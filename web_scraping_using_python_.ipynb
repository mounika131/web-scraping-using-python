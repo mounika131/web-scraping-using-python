{
  "nbformat": 4,
  "nbformat_minor": 0,
  "metadata": {
    "colab": {
      "name": "web scraping using python .ipynb",
      "provenance": [],
      "collapsed_sections": []
    },
    "kernelspec": {
      "name": "python3",
      "display_name": "Python 3"
    }
  },
  "cells": [
    {
      "cell_type": "code",
      "metadata": {
        "colab": {
          "base_uri": "https://localhost:8080/"
        },
        "id": "T6AQigcRTO6T",
        "outputId": "0c925533-68e6-4879-cdfe-4111acc7e45b"
      },
      "source": [
        "# to print the values \r\n",
        "from bs4 import BeautifulSoup as soup\r\n",
        "from urllib.request import urlopen as uReq\r\n",
        "\r\n",
        "my_url=\"https://www.flipkart.com/search?q=samsung+mobiles&amp);sid=tyy%2C4io&amp;as=on&amp;as-show=on&amp;otracker=AS_QueryStore_HistoryAutoSuggest_0_2&amp;otracker1=AS_QueryStore_HistoryAutoSuggest_0_2&amp;as-pos=0&amp;as-type=HISTORY&amp;as-searchtext=sa\"\r\n",
        "\r\n",
        "uClient = uReq(my_url)\r\n",
        "page_html = uClient.read()\r\n",
        "uClient.close()\r\n",
        "page_soup = soup(page_html, \"html.parser\")\r\n",
        "containers = page_soup.findAll(\"div\", { \"class\": \"_2kHMtA\"})\r\n",
        "print(len(containers))\r\n",
        "filename = \"products.csv\"\r\n",
        "f = open(filename, \"w\")\r\n",
        "headers = \"Product_Name, Pricing, Ratings \\n\"\r\n",
        "f.write(headers)\r\n",
        "for container in containers:\r\n",
        "    product_name = container.div.img[\"alt\"]\r\n",
        "    price_container = container.findAll(\"div\", {\"class\": \"_30jeq3 _1_WHN1\"})\r\n",
        "    price = price_container[0].text.strip()\r\n",
        "\r\n",
        "    rating_container = container.findAll(\"div\", {\"class\": \"gUuXy-\"})\r\n",
        "    rating = rating_container[0].text\r\n",
        "    print(\"Product_Name:\"+ product_name)\r\n",
        "    print(\"Price: \" + price)\r\n",
        "    print(\"Ratings:\" + rating)\r\n",
        "# simply to print "
      ],
      "execution_count": null,
      "outputs": [
        {
          "output_type": "stream",
          "text": [
            "24\n",
            "Product_Name:Samsung Galaxy F41 (Fusion Blue, 128 GB)\n",
            "Price: ₹15,999\n",
            "Ratings:4.31,88,486 Ratings & 24,153 Reviews\n",
            "Product_Name:Samsung Galaxy F41 (Fusion Blue, 64 GB)\n",
            "Price: ₹14,999\n",
            "Ratings:4.31,88,486 Ratings & 24,153 Reviews\n",
            "Product_Name:Samsung Galaxy F41 (Fusion Black, 64 GB)\n",
            "Price: ₹14,999\n",
            "Ratings:4.31,88,486 Ratings & 24,153 Reviews\n",
            "Product_Name:Samsung Galaxy F41 (Fusion Black, 128 GB)\n",
            "Price: ₹15,999\n",
            "Ratings:4.31,88,486 Ratings & 24,153 Reviews\n",
            "Product_Name:Samsung Galaxy F41 (Fusion Green, 128 GB)\n",
            "Price: ₹15,999\n",
            "Ratings:4.31,88,486 Ratings & 24,153 Reviews\n",
            "Product_Name:Samsung Galaxy F41 (Fusion Green, 64 GB)\n",
            "Price: ₹14,999\n",
            "Ratings:4.31,88,486 Ratings & 24,153 Reviews\n",
            "Product_Name:Samsung Guru 1200\n",
            "Price: ₹1,340\n",
            "Ratings:4.31,45,326 Ratings & 13,259 Reviews\n",
            "Product_Name:Samsung Guru Music 2\n",
            "Price: ₹1,710\n",
            "Ratings:4.31,61,589 Ratings & 15,915 Reviews\n",
            "Product_Name:Samsung Guru 1200\n",
            "Price: ₹1,355\n",
            "Ratings:4.31,45,326 Ratings & 13,259 Reviews\n",
            "Product_Name:Samsung Guru 1200\n",
            "Price: ₹1,340\n",
            "Ratings:4.31,45,326 Ratings & 13,259 Reviews\n",
            "Product_Name:Samsung Guru Music 2\n",
            "Price: ₹1,935\n",
            "Ratings:4.31,61,589 Ratings & 15,915 Reviews\n",
            "Product_Name:Samsung Galaxy M01 (Black, 32 GB)\n",
            "Price: ₹8,175\n",
            "Ratings:4.214,669 Ratings & 1,113 Reviews\n",
            "Product_Name:Samsung Guru Music 2\n",
            "Price: ₹1,891\n",
            "Ratings:4.31,61,589 Ratings & 15,915 Reviews\n",
            "Product_Name:Samsung Galaxy M01 (Blue, 32 GB)\n",
            "Price: ₹7,898\n",
            "Ratings:4.214,669 Ratings & 1,113 Reviews\n",
            "Product_Name:Samsung M01 core (Black, 16 GB)\n",
            "Price: ₹5,230\n",
            "Ratings:44,260 Ratings & 353 Reviews\n",
            "Product_Name:Samsung Galaxy M11 (Metallic Blue, 64 GB)\n",
            "Price: ₹12,892\n",
            "Ratings:4.25,827 Ratings & 481 Reviews\n",
            "Product_Name:Samsung Metro 313 Dual Sim\n",
            "Price: ₹2,325\n",
            "Ratings:4.319,600 Ratings & 2,139 Reviews\n",
            "Product_Name:Samsung M01 core (Blue, 32 GB)\n",
            "Price: ₹6,330\n",
            "Ratings:3.93,946 Ratings & 358 Reviews\n",
            "Product_Name:Samsung M01 core (Black, 32 GB)\n",
            "Price: ₹6,186\n",
            "Ratings:3.93,946 Ratings & 358 Reviews\n",
            "Product_Name:Samsung M01 core (Blue, 16 GB)\n",
            "Price: ₹5,370\n",
            "Ratings:44,260 Ratings & 353 Reviews\n",
            "Product_Name:Samsung Guru Music 2 SM-B310E\n",
            "Price: ₹1,943\n",
            "Ratings:4.15,216 Ratings & 418 Reviews\n",
            "Product_Name:Samsung Guru GT\n",
            "Price: ₹1,399\n",
            "Ratings:4.12,724 Ratings & 238 Reviews\n",
            "Product_Name:Samsung Guru FM Plus SM-B110E/D\n",
            "Price: ₹1,589\n",
            "Ratings:4.353,048 Ratings & 5,527 Reviews\n",
            "Product_Name:Samsung Metro 313 Dual Sim\n",
            "Price: ₹2,305\n",
            "Ratings:4.310,708 Ratings & 990 Reviews\n"
          ],
          "name": "stdout"
        }
      ]
    },
    {
      "cell_type": "code",
      "metadata": {
        "colab": {
          "base_uri": "https://localhost:8080/",
          "height": 221
        },
        "id": "XTOdqD8iTzAi",
        "outputId": "a69df6eb-315e-481b-9e7e-1197d846d3b8"
      },
      "source": [
        "# to save single page values csv file\r\n",
        "import pandas as pd\r\n",
        "from bs4 import BeautifulSoup as soup\r\n",
        "from urllib.request import urlopen as uReq\r\n",
        "\r\n",
        "my_url=\"https://www.flipkart.com/search?q=samsung+mobiles&amp);sid=tyy%2C4io&amp;as=on&amp;as-show=on&amp;otracker=AS_QueryStore_HistoryAutoSuggest_0_2&amp;otracker1=AS_QueryStore_HistoryAutoSuggest_0_2&amp;as-pos=0&amp;as-type=HISTORY&amp;as-searchtext=sa\"\r\n",
        "\r\n",
        "uClient = uReq(my_url)\r\n",
        "page_html = uClient.read()\r\n",
        "uClient.close()\r\n",
        "page_soup = soup(page_html, \"html.parser\")\r\n",
        "containers = page_soup.findAll(\"div\", { \"class\": \"_2kHMtA\"})\r\n",
        "print(len(containers))\r\n",
        "product_name=[] #List to store name of the product\r\n",
        "price=[] #List to store price of the product\r\n",
        "ratings=[] #List to store rating of the product\r\n",
        "for container in containers:\r\n",
        "    name = container.div.img[\"alt\"]\r\n",
        "    price_container = container.findAll(\"div\", {\"class\": \"_30jeq3 _1_WHN1\"})\r\n",
        "    money = price_container[0].text.strip()\r\n",
        "\r\n",
        "    rating_container = container.findAll(\"div\", {\"class\": \"gUuXy-\"})\r\n",
        "    rating = rating_container[0].text\r\n",
        "    product_name.append(name)\r\n",
        "    price.append(money)\r\n",
        "    ratings.append(rating) \r\n",
        "df = pd.DataFrame({'product_name':product_name,'price':price,'ratings':ratings}) \r\n",
        "df.to_csv('products.csv', index=False, encoding='utf-8')\r\n",
        "# save to csv file \r\n",
        "df.head(5)\r\n"
      ],
      "execution_count": 3,
      "outputs": [
        {
          "output_type": "stream",
          "text": [
            "24\n"
          ],
          "name": "stdout"
        },
        {
          "output_type": "execute_result",
          "data": {
            "text/html": [
              "<div>\n",
              "<style scoped>\n",
              "    .dataframe tbody tr th:only-of-type {\n",
              "        vertical-align: middle;\n",
              "    }\n",
              "\n",
              "    .dataframe tbody tr th {\n",
              "        vertical-align: top;\n",
              "    }\n",
              "\n",
              "    .dataframe thead th {\n",
              "        text-align: right;\n",
              "    }\n",
              "</style>\n",
              "<table border=\"1\" class=\"dataframe\">\n",
              "  <thead>\n",
              "    <tr style=\"text-align: right;\">\n",
              "      <th></th>\n",
              "      <th>product_name</th>\n",
              "      <th>price</th>\n",
              "      <th>ratings</th>\n",
              "    </tr>\n",
              "  </thead>\n",
              "  <tbody>\n",
              "    <tr>\n",
              "      <th>0</th>\n",
              "      <td>Samsung Galaxy F41 (Fusion Blue, 128 GB)</td>\n",
              "      <td>₹15,999</td>\n",
              "      <td>4.31,88,487 Ratings &amp; 24,152 Reviews</td>\n",
              "    </tr>\n",
              "    <tr>\n",
              "      <th>1</th>\n",
              "      <td>Samsung Galaxy F41 (Fusion Blue, 64 GB)</td>\n",
              "      <td>₹14,999</td>\n",
              "      <td>4.31,88,487 Ratings &amp; 24,152 Reviews</td>\n",
              "    </tr>\n",
              "    <tr>\n",
              "      <th>2</th>\n",
              "      <td>Samsung Galaxy F41 (Fusion Black, 64 GB)</td>\n",
              "      <td>₹14,999</td>\n",
              "      <td>4.31,88,487 Ratings &amp; 24,152 Reviews</td>\n",
              "    </tr>\n",
              "    <tr>\n",
              "      <th>3</th>\n",
              "      <td>Samsung Galaxy F41 (Fusion Black, 128 GB)</td>\n",
              "      <td>₹15,999</td>\n",
              "      <td>4.31,88,487 Ratings &amp; 24,152 Reviews</td>\n",
              "    </tr>\n",
              "    <tr>\n",
              "      <th>4</th>\n",
              "      <td>Samsung Galaxy F41 (Fusion Green, 128 GB)</td>\n",
              "      <td>₹15,999</td>\n",
              "      <td>4.31,88,487 Ratings &amp; 24,152 Reviews</td>\n",
              "    </tr>\n",
              "  </tbody>\n",
              "</table>\n",
              "</div>"
            ],
            "text/plain": [
              "                                product_name  ...                               ratings\n",
              "0   Samsung Galaxy F41 (Fusion Blue, 128 GB)  ...  4.31,88,487 Ratings & 24,152 Reviews\n",
              "1    Samsung Galaxy F41 (Fusion Blue, 64 GB)  ...  4.31,88,487 Ratings & 24,152 Reviews\n",
              "2   Samsung Galaxy F41 (Fusion Black, 64 GB)  ...  4.31,88,487 Ratings & 24,152 Reviews\n",
              "3  Samsung Galaxy F41 (Fusion Black, 128 GB)  ...  4.31,88,487 Ratings & 24,152 Reviews\n",
              "4  Samsung Galaxy F41 (Fusion Green, 128 GB)  ...  4.31,88,487 Ratings & 24,152 Reviews\n",
              "\n",
              "[5 rows x 3 columns]"
            ]
          },
          "metadata": {
            "tags": []
          },
          "execution_count": 3
        }
      ]
    },
    {
      "cell_type": "code",
      "metadata": {
        "id": "xFjECTZTUbCJ"
      },
      "source": [
        "#multiple pages \r\n",
        "import pandas as pd\r\n",
        "from bs4 import BeautifulSoup as soup\r\n",
        "from urllib.request import urlopen as uReq\r\n",
        "product_name=[] #List to store name of the product\r\n",
        "price=[] #List to store price of the product\r\n",
        "ratings=[] #List to store rating of the product\r\n",
        "pages=[1,2,3,4,5,6,7,8,9,10,11,12,13,14,15,16,17,18,19,20,21,22,23,24,25]\r\n",
        "for page in pages:\r\n",
        "  my_url=('https://www.flipkart.com/search?q=samsung+mobiles&otracker=search&otracker1=search&marketplace=FLIPKART&as-show=off&as=off&page={}'.format(page))\r\n",
        "  uClient = uReq(my_url)\r\n",
        "  page_html = uClient.read()\r\n",
        "  uClient.close()\r\n",
        "  page_soup = soup(page_html, \"html.parser\")\r\n",
        "  containers = page_soup.findAll(\"div\", { \"class\": \"_2kHMtA\"})\r\n",
        "  for container in containers:\r\n",
        "    name = container.div.img[\"alt\"]\r\n",
        "    price_container = container.findAll(\"div\", {\"class\": \"_30jeq3 _1_WHN1\"})\r\n",
        "    money = price_container[0].text.strip()\r\n",
        "    # rating_container = container.findAll(\"div\", {\"class\": \"gUuXy-\"})\r\n",
        "    # rating_container = container.findAll(\"div\", {\"class\": \"_2_R_DZ\"})\r\n",
        "    # rate = rating_container[0].text\r\n",
        "    product_name.append(name)\r\n",
        "    price.append(money)\r\n",
        "    # ratings.append(rate) \r\n",
        "df = pd.DataFrame({'product_name':product_name,'price':price,})\r\n",
        "# 'ratings':ratings}) \r\n",
        "df.to_csv('products.csv', index=False, encoding='utf-8')\r\n",
        "\r\n"
      ],
      "execution_count": 4,
      "outputs": []
    },
    {
      "cell_type": "code",
      "metadata": {
        "colab": {
          "base_uri": "https://localhost:8080/"
        },
        "id": "A5oOXn-2UmI0",
        "outputId": "5552a37c-8c6d-47fa-f6d9-1f9d20a943b8"
      },
      "source": [
        "print(df.head(5))\r\n",
        "print(df.shape)\r\n"
      ],
      "execution_count": 5,
      "outputs": [
        {
          "output_type": "stream",
          "text": [
            "                                product_name    price\n",
            "0   Samsung Galaxy F41 (Fusion Blue, 128 GB)  ₹15,999\n",
            "1    Samsung Galaxy F41 (Fusion Blue, 64 GB)  ₹14,999\n",
            "2   Samsung Galaxy F41 (Fusion Black, 64 GB)  ₹14,999\n",
            "3  Samsung Galaxy F41 (Fusion Black, 128 GB)  ₹15,999\n",
            "4  Samsung Galaxy F41 (Fusion Green, 128 GB)  ₹15,999\n",
            "(598, 2)\n"
          ],
          "name": "stdout"
        }
      ]
    }
  ]
}